{
 "cells": [
  {
   "cell_type": "code",
   "execution_count": null,
   "metadata": {},
   "outputs": [],
   "source": [
    "'''\n",
    "Problem link: https://www.geeksforgeeks.org/ugly-numbers/\n",
    "Brute force:\n",
    "    Keep dividing the number with 2,3 and 5. If final number is 1, it is a Ugly number.\n",
    "DP approach:\n",
    "     Every Ugly number is a multiple of 2,3 or 5. So, we can store their multiples in a common array\n",
    "     in an increasing order.\n",
    "'''\n",
    "nxtmult_2=1;nxtmult_3=1;nxtmult_5=1\n",
    "i2=0;i3=0;i5=0\n",
    "ugly=list()\n",
    "ugly.append(1)\n",
    "while(len(ugly)<=10000):\n",
    "      nxtmult_2=ugly[i2]*2\n",
    "      nxtmult_3=ugly[i3]*3\n",
    "      nxtmult_5=ugly[i5]*5\n",
    "      next_ugly=min(nxtmult_2,nxtmult_3,nxtmult_5)\n",
    "      ugly.append(next_ugly)\n",
    "      if next_ugly==nxtmult_2:\n",
    "          i2+=1\n",
    "      if next_ugly==nxtmult_3:\n",
    "          i3+=1\n",
    "      if next_ugly==nxtmult_5:\n",
    "          i5+=1\n",
    "t=int(input())\n",
    "while(t>0):\n",
    "  n=int(input())\n",
    "  print(ugly[n-1])\n",
    "  t-=1"
   ]
  }
 ],
 "metadata": {
  "kernelspec": {
   "display_name": "Python 3",
   "language": "python",
   "name": "python3"
  },
  "language_info": {
   "codemirror_mode": {
    "name": "ipython",
    "version": 3
   },
   "file_extension": ".py",
   "mimetype": "text/x-python",
   "name": "python",
   "nbconvert_exporter": "python",
   "pygments_lexer": "ipython3",
   "version": "3.7.4"
  }
 },
 "nbformat": 4,
 "nbformat_minor": 2
}
